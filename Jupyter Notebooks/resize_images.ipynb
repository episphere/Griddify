{
 "cells": [
  {
   "cell_type": "code",
   "execution_count": 2,
   "metadata": {},
   "outputs": [
    {
     "name": "stdout",
     "output_type": "stream",
     "text": [
      "Resized 29.png to (1024, 661)\n",
      "Resized 15.png to (1024, 751)\n",
      "Resized 13.png to (1024, 677)\n",
      "Resized 11.png to (1024, 636)\n",
      "Resized 35.png to (1024, 826)\n",
      "Resized 22.png to (1024, 834)\n",
      "Resized 36.png to (1024, 704)\n",
      "Resized 33.png to (1024, 713)\n",
      "Resized 26.png to (1024, 780)\n",
      "Resized 24.png to (1024, 693)\n",
      "Resized 4.png to (1024, 775)\n",
      "Resized 41.png to (1024, 816)\n",
      "Resized 7.png to (1024, 714)\n",
      "Resized 6.png to (1024, 849)\n",
      "Resized 2.png to (1024, 835)\n"
     ]
    }
   ],
   "source": [
    "from PIL import Image\n",
    "import os\n",
    "\n",
    "\n",
    "def resize_images_in_folder(folder_path, max_dimension):\n",
    "    for file_name in os.listdir(folder_path):\n",
    "        if file_name.lower().endswith(('.png', '.jpg', '.jpeg')):\n",
    "            image_path = os.path.join(folder_path, file_name)\n",
    "            with Image.open(image_path) as img:\n",
    "                width, height = img.size\n",
    "\n",
    "                # Determine the scaling factor, maintaining the aspect ratio\n",
    "                if width > height:\n",
    "                    if width > max_dimension:\n",
    "                        scaling_factor = max_dimension / width\n",
    "                        new_size = (max_dimension, int(height * scaling_factor))\n",
    "                    else:\n",
    "                        continue\n",
    "                else:\n",
    "                    if height > max_dimension:\n",
    "                        scaling_factor = max_dimension / height\n",
    "                        new_size = (int(width * scaling_factor), max_dimension)\n",
    "                    else:\n",
    "                        continue\n",
    "\n",
    "                # Resize and save the image\n",
    "                resized_img = img.resize(new_size)\n",
    "                resized_img.save(image_path)\n",
    "                print(f\"Resized {file_name} to {new_size}\")\n",
    "\n",
    "# Example usage\n",
    "folder_path = '../New Images'  # Replace with the path to your image folder\n",
    "max_dimension = 1024  # The desired maximum dimension\n",
    "resize_images_in_folder(folder_path, max_dimension)"
   ]
  }
 ],
 "metadata": {
  "kernelspec": {
   "display_name": "Python 3",
   "language": "python",
   "name": "python3"
  },
  "language_info": {
   "codemirror_mode": {
    "name": "ipython",
    "version": 3
   },
   "file_extension": ".py",
   "mimetype": "text/x-python",
   "name": "python",
   "nbconvert_exporter": "python",
   "pygments_lexer": "ipython3",
   "version": "3.11.1"
  }
 },
 "nbformat": 4,
 "nbformat_minor": 2
}
